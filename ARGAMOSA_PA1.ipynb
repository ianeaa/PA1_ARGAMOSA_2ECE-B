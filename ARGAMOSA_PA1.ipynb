{
 "cells": [
  {
   "cell_type": "markdown",
   "id": "c2117ff9-91b7-4747-9b7a-866aa093cb2e",
   "metadata": {},
   "source": [
    "# Alphabet Soup Problem"
   ]
  },
  {
   "cell_type": "code",
   "execution_count": null,
   "id": "8f1ddc93-e932-4b90-b1da-a14902418ec9",
   "metadata": {},
   "outputs": [],
   "source": [
    "# make the user input the string\n",
    "user_input = input(\"Enter string: \")\n",
    "# using the join method and sorted function, to sort the string alphabetically\n",
    "sorted_string = ''.join(sorted(user_input))\n",
    "# output statement\n",
    "print(\"Sorted letters: \", sorted_string)\n"
   ]
  },
  {
   "cell_type": "markdown",
   "id": "8c781fcf-d7b9-45c9-8a4e-35f617daa2db",
   "metadata": {},
   "source": [
    "# Emoticon Problem"
   ]
  },
  {
   "cell_type": "code",
   "execution_count": null,
   "id": "73ebba96-5142-48c5-afb6-0a3af2f13588",
   "metadata": {},
   "outputs": [],
   "source": [
    "# defining a function\n",
    "def replace_emot(sentence):\n",
    "    # dictionary\n",
    "    emoticons = {\"smile\": \":)\", \"grin\": \":D\", \"sad\": \":(\", \"mad\": \">:(\"}\n",
    "    words = sentence.split()\n",
    "    new_sentence = [emoticons.get(word, word) for word in words]\n",
    "    return ' '.join(new_sentence)\n",
    "# make the user input a sentence that includes the words in the dictionary\n",
    "user_input = input(\"Input: \")\n",
    "result = replace_emot(user_input)\n",
    "# output statement\n",
    "print(result)"
   ]
  },
  {
   "cell_type": "markdown",
   "id": "bc97742b-4316-43ac-a5f1-c12635726932",
   "metadata": {},
   "source": [
    "# Unpacking List Problem"
   ]
  },
  {
   "cell_type": "code",
   "execution_count": null,
   "id": "36f257ea-ad1c-4ac9-adb3-c631671bf615",
   "metadata": {},
   "outputs": [],
   "source": [
    "# Unpacking List Problem\n",
    "# list\n",
    "list = [1, 2, 3, 4, 5, 6]\n",
    "# obtain the first index from the list\n",
    "una = list[0]\n",
    "# use slicing to extract the middle variables\n",
    "gitna = list[1:-1]\n",
    "# obtain the last index from the list\n",
    "dulo = list[-1]\n",
    "\n",
    "# output statement to display the variables\n",
    "print(\"first:\", una, \" middle:\", gitna, \" last:\", dulo)"
   ]
  }
 ],
 "metadata": {
  "kernelspec": {
   "display_name": "Python 3 (ipykernel)",
   "language": "python",
   "name": "python3"
  },
  "language_info": {
   "codemirror_mode": {
    "name": "ipython",
    "version": 3
   },
   "file_extension": ".py",
   "mimetype": "text/x-python",
   "name": "python",
   "nbconvert_exporter": "python",
   "pygments_lexer": "ipython3",
   "version": "3.12.4"
  }
 },
 "nbformat": 4,
 "nbformat_minor": 5
}
